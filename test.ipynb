{
 "cells": [
  {
   "cell_type": "code",
   "execution_count": 1,
   "metadata": {},
   "outputs": [
    {
     "name": "stdout",
     "output_type": "stream",
     "text": [
      "   Gender  Female  Male\n",
      "0    Male       0     1\n",
      "1  Female       1     0\n",
      "2    Male       0     1\n",
      "3  Female       1     0\n"
     ]
    }
   ],
   "source": [
    "import pandas as pd\n",
    "\n",
    "# Tạo một DataFrame ví dụ\n",
    "data = {'Gender': ['Male', 'Female', 'Male', 'Female']}\n",
    "df = pd.DataFrame(data)\n",
    "\n",
    "# Sử dụng get_dummies để chuyển đổi biến phân\n",
    "#  loại thành biến giả (dummy variables)\n",
    "dummy_df = pd.get_dummies(df['Gender'])\n",
    "\n",
    "# Kết hợp các biến giả với DataFrame ban đầu\n",
    "df = pd.concat([df, dummy_df], axis=1)\n",
    "\n",
    "# In ra kết quả\n",
    "print(df)"
   ]
  }
 ],
 "metadata": {
  "kernelspec": {
   "display_name": "base",
   "language": "python",
   "name": "python3"
  },
  "language_info": {
   "codemirror_mode": {
    "name": "ipython",
    "version": 3
   },
   "file_extension": ".py",
   "mimetype": "text/x-python",
   "name": "python",
   "nbconvert_exporter": "python",
   "pygments_lexer": "ipython3",
   "version": "3.10.9"
  }
 },
 "nbformat": 4,
 "nbformat_minor": 2
}
